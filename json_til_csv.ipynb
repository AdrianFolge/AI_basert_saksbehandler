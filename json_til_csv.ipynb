{
 "cells": [
  {
   "cell_type": "code",
   "execution_count": null,
   "metadata": {},
   "outputs": [],
   "source": [
    "import json\n",
    "import csv\n",
    "from collections import OrderedDict\n",
    "from pathlib import Path"
   ]
  },
  {
   "cell_type": "markdown",
   "metadata": {},
   "source": [
    "## Denne filen vil lage en mappe med CSV-filer fra en mappe med JSON-filer"
   ]
  },
  {
   "cell_type": "code",
   "execution_count": null,
   "metadata": {},
   "outputs": [],
   "source": [
    "def flatten_json(y):\n",
    "    out = OrderedDict()\n",
    "\n",
    "    def flatten(x, name=''):\n",
    "        if type(x) is dict:\n",
    "            for a in x:\n",
    "                flatten(x[a], f\"{name}{a}_\")\n",
    "        elif type(x) is list:\n",
    "            i = 0\n",
    "            for a in x:\n",
    "                flatten(a, f\"{name}{i}_\")\n",
    "                i += 1\n",
    "        else:\n",
    "            out[name[:-1]] = x\n",
    "\n",
    "    flatten(y)\n",
    "    return out\n",
    "\n",
    "# Ny funksjon for å prosessere JSON-fil\n",
    "def process_json_file(json_file_path, output_dir):\n",
    "    with open(json_file_path, 'r') as f:\n",
    "        json_data = json.load(f)\n",
    "\n",
    "    flat = flatten_json(json_data)\n",
    "\n",
    "    csv_file_path = output_dir / (json_file_path.stem + '.csv')\n",
    "    with open(csv_file_path, 'w', newline='') as csvfile:\n",
    "        writer = csv.writer(csvfile)\n",
    "        writer.writerow(flat.keys())  \n",
    "        writer.writerow(flat.values())  \n",
    "\n",
    "    print(f\"CSV file {csv_file_path} has been created successfully.\")\n",
    "\n",
    "json_dir_path = Path('/Users/adrianfolge/Documents/5./AIBasertSaksbehandler/EbyggesokPrivatSoknadJson-vasket') \n",
    "output_dir_path = Path('./csv_filer')  \n",
    "\n",
    "\n",
    "output_dir_path.mkdir(parents=True, exist_ok=True)\n",
    "\n",
    "for json_file in json_dir_path.glob('*'):\n",
    "    process_json_file(json_file, output_dir_path)"
   ]
  }
 ],
 "metadata": {
  "kernelspec": {
   "display_name": "Python 3",
   "language": "python",
   "name": "python3"
  },
  "language_info": {
   "codemirror_mode": {
    "name": "ipython",
    "version": 3
   },
   "file_extension": ".py",
   "mimetype": "text/x-python",
   "name": "python",
   "nbconvert_exporter": "python",
   "pygments_lexer": "ipython3",
   "version": "3.10.9"
  }
 },
 "nbformat": 4,
 "nbformat_minor": 2
}
